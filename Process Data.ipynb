{
 "cells": [
  {
   "cell_type": "code",
   "execution_count": null,
   "id": "cb06b872-1da0-4601-b11f-72dc68074747",
   "metadata": {},
   "outputs": [],
   "source": [
    "import numpy as np\n",
    "import pandas as pd\n",
    "import pickle as pk\n",
    "import seaborn as sb"
   ]
  },
  {
   "cell_type": "code",
   "execution_count": null,
   "id": "81bce6c2-3a53-415a-ae9c-b622e5203584",
   "metadata": {},
   "outputs": [],
   "source": [
    "# Load Excel File\n",
    "ground_motion = pd.read_excel('data/Updated_NGA_West2_flatfiles_part1/Updated_NGA_West2_Flatfile_RotD50_d005_public_version.xlsx')"
   ]
  },
  {
   "cell_type": "code",
   "execution_count": null,
   "id": "626197c9-cd24-4caf-b7e4-369d90fae43d",
   "metadata": {
    "scrolled": true
   },
   "outputs": [],
   "source": [
    "#  Print all columns\n",
    "for i, header in enumerate(ground_motion.columns.tolist()):\n",
    "    print(i, header)"
   ]
  },
  {
   "cell_type": "code",
   "execution_count": null,
   "id": "1a6651c5-4f67-439c-8dc8-0c96ad5c3484",
   "metadata": {},
   "outputs": [],
   "source": [
    "\"\"\"column_drop_list0 = [0,2,3,4,5,6,7,12,13,14,15,20,21,22,23,27,28,29,30,35,36,37,38,39,40,41,42,43,44,45,46,62,63,64,65,66,67,68,69,70,71,73,74,75,76,77,81,87,90,91]\n",
    "column_drop_list1 = [90,91,93,94,96,97,98,99,100,101,102,103,104,105,106,107,108,109,110,111,112,113,114,115,116,117,118,119,120,121,122]\n",
    "column_drop_list2 = [123,124,125,126,127,128,129,130,245,246,247,248,249,250,251,252,253,254,255,256,257,258,259,260,261,262,263,264]\n",
    "column_drop_list3 = [265,266,267,268,269,270,271,272,273]\n",
    "column_drop_list = column_drop_list0+column_drop_list1+column_drop_list2+column_drop_list3\"\"\""
   ]
  },
  {
   "cell_type": "code",
   "execution_count": null,
   "id": "397a775b-2e02-4d4a-a8a9-d1e4be39911f",
   "metadata": {},
   "outputs": [],
   "source": [
    "# Dropping the datas that are not required"
   ]
  },
  {
   "cell_type": "code",
   "execution_count": null,
   "id": "528ef44a-db02-4e5e-a65e-3d535a8d6ab4",
   "metadata": {},
   "outputs": [],
   "source": [
    "#ground_motion=ground_motion.drop(ground_motion.columns[column_drop_list], axis=1)"
   ]
  },
  {
   "cell_type": "code",
   "execution_count": null,
   "id": "71d3e108-63bf-47e5-b824-079644f6cfdc",
   "metadata": {},
   "outputs": [],
   "source": [
    "with open('data/processed_ground_motion_data.pkl', 'wb') as file:\n",
    "    pk.dump(ground_motion, file)"
   ]
  },
  {
   "cell_type": "code",
   "execution_count": null,
   "id": "c847de38-f134-43e4-9e58-788f6ec86ac0",
   "metadata": {},
   "outputs": [],
   "source": []
  }
 ],
 "metadata": {
  "kernelspec": {
   "display_name": "Python 3 (ipykernel)",
   "language": "python",
   "name": "python3"
  },
  "language_info": {
   "codemirror_mode": {
    "name": "ipython",
    "version": 3
   },
   "file_extension": ".py",
   "mimetype": "text/x-python",
   "name": "python",
   "nbconvert_exporter": "python",
   "pygments_lexer": "ipython3",
   "version": "3.11.5"
  }
 },
 "nbformat": 4,
 "nbformat_minor": 5
}
