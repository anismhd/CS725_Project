{
 "cells": [
  {
   "cell_type": "code",
   "execution_count": 1,
   "id": "27e23a63-c573-4f0d-8bb3-924ec8652e9a",
   "metadata": {},
   "outputs": [
    {
     "name": "stderr",
     "output_type": "stream",
     "text": [
      "/usr/lib/python3.11/site-packages/tqdm/auto.py:21: TqdmWarning: IProgress not found. Please update jupyter and ipywidgets. See https://ipywidgets.readthedocs.io/en/stable/user_install.html\n",
      "  from .autonotebook import tqdm as notebook_tqdm\n"
     ]
    }
   ],
   "source": [
    "import torch\n",
    "import numpy as np\n",
    "import matplotlib.pyplot as plt\n",
    "import pandas as pd\n",
    "import pickle\n",
    "import seaborn as sns\n",
    "\n",
    "# BNN Modules\n",
    "import pyro\n",
    "import pyro.distributions as dist\n",
    "from pyro.nn import PyroModule, PyroSample\n",
    "import torch.nn as nn\n",
    "from sklearn.model_selection import train_test_split\n",
    "\n",
    "from pyro.infer import MCMC, NUTS\n",
    "\n",
    "from pyro.infer.autoguide import AutoDiagonalNormal\n",
    "from pyro.infer import SVI, Trace_ELBO, Predictive\n",
    "from tqdm.auto import trange, tqdm"
   ]
  },
  {
   "cell_type": "code",
   "execution_count": 2,
   "id": "e1141c3a-eb0a-4b78-98c5-dfe4cecbad21",
   "metadata": {},
   "outputs": [],
   "source": [
    "ground_motion = pd.read_pickle(\"data/processed_ground_motion_PGA.pkl\")\n",
    "interest_index = (ground_motion['Earthquake Magnitude'] > 6.0) & (ground_motion['Earthquake Magnitude'] < 7.0)\n",
    "ground_motion2 = ground_motion[interest_index]\n",
    "Sample_Size = len(ground_motion2.index)\n",
    "DNN_param = pickle.load(open('data/DNN_param.pkl', 'rb'))"
   ]
  },
  {
   "cell_type": "code",
   "execution_count": 3,
   "id": "14587708-014a-481d-a87b-31e14af022e0",
   "metadata": {},
   "outputs": [],
   "source": [
    "def datasets_creation(NN=Sample_Size):\n",
    "\tX = np.zeros([NN,2])\n",
    "\ty = np.zeros(NN)\n",
    "\ty[:] = np.log(ground_motion2['PGA (g)'].values)\n",
    "\tX[:,0] = ground_motion2[['EpiD (km)']].values.T\n",
    "\tX[:,1] = ground_motion2[['Vs30 (m/s) selected for analysis']].values.T\n",
    "\t# We added shuffling to introduce stochasticity\n",
    "\t#X_train, X_test, y_train, y_test = train_test_split(X, y, train_size=0.6, shuffle=True)\n",
    "\tX_train = torch.from_numpy(X).float()\n",
    "\ty_train = torch.from_numpy(y).float()\n",
    "\treturn X_train, y_train\n"
   ]
  },
  {
   "cell_type": "code",
   "execution_count": 4,
   "id": "db49cdbc-6696-49a3-b357-bad3d3302480",
   "metadata": {},
   "outputs": [],
   "source": [
    "class Model01(PyroModule):\n",
    "    def __init__(self, in_dim=2, out_dim=1, hid_dim=300, prior_scale=10.):\n",
    "        super().__init__()\n",
    "\n",
    "        self.activation = nn.ReLU()\n",
    "        self.layer1 = PyroModule[nn.Linear](in_dim, hid_dim)\n",
    "        self.layer2 = PyroModule[nn.Linear](hid_dim, 1)\n",
    "        self.layer3 = PyroModule[nn.Linear](200, 100)\n",
    "        self.layer4 = PyroModule[nn.Linear](100, 50)\n",
    "        self.layer5 = PyroModule[nn.Linear](50, 10)\n",
    "        self.layer6 = PyroModule[nn.Linear](10, 10)\n",
    "        self.layer7 = PyroModule[nn.Linear](10, 1)\n",
    "        # Layer 01 R.V\n",
    "        self.layer1.weight = PyroSample(dist.Normal(0., prior_scale).expand([hid_dim, in_dim]).to_event(2))\n",
    "        self.layer1.bias = PyroSample(dist.Normal(0., prior_scale).expand([hid_dim]).to_event(1))\n",
    "        # Layer 02 R.V\n",
    "        self.layer2.weight = PyroSample(dist.Normal(0., prior_scale).expand([1, hid_dim]).to_event(2))\n",
    "        self.layer2.bias = PyroSample(dist.Normal(0., prior_scale).expand([1]).to_event(1))\n",
    "        # Layer 03 R.V\n",
    "        self.layer3.weight = PyroSample(dist.Normal(0., prior_scale).expand([100, 200]).to_event(2))\n",
    "        self.layer3.bias = PyroSample(dist.Normal(0., prior_scale).expand([100]).to_event(1))\n",
    "        # Layer 04 R.V\n",
    "        self.layer4.weight = PyroSample(dist.Normal(0., prior_scale).expand([50, 100]).to_event(2))\n",
    "        self.layer4.bias = PyroSample(dist.Normal(0., prior_scale).expand([50]).to_event(1))\n",
    "        # Layer 05 R.V\n",
    "        self.layer5.weight = PyroSample(dist.Normal(0., prior_scale).expand([10, 50]).to_event(2))\n",
    "        self.layer5.bias = PyroSample(dist.Normal(0., prior_scale).expand([10]).to_event(1))\n",
    "        # Layer 06 R.V\n",
    "        self.layer6.weight = PyroSample(dist.Normal(0., prior_scale).expand([10, 10]).to_event(2))\n",
    "        self.layer6.bias = PyroSample(dist.Normal(0., prior_scale).expand([10]).to_event(1))\n",
    "        # Layer 07 R.V\n",
    "        self.layer7.weight = PyroSample(dist.Normal(0., prior_scale).expand([1, 10]).to_event(2))\n",
    "        self.layer7.bias = PyroSample(dist.Normal(0., prior_scale).expand([1]).to_event(1))\n",
    "\n",
    "\n",
    "    def forward(self, x, y=None):\n",
    "        x = self.activation(self.layer1(x))\n",
    "#        x = self.activation(self.layer2(x))\n",
    "#        x = self.activation(self.layer3(x))\n",
    "#        x = self.activation(self.layer4(x))\n",
    "#        x = self.activation(self.layer5(x))\n",
    "#        x = self.activation(self.layer6(x))\n",
    "        mu = self.layer2(x).squeeze()\n",
    "        sigma = pyro.sample(\"sigma\", dist.Gamma(.5, 1))  # Infer the response noise\n",
    "        # Sampling model\n",
    "        with pyro.plate(\"data\", x.shape[0]):\n",
    "            obs = pyro.sample(\"obs\", dist.Normal(mu, sigma * sigma), obs=y)\n",
    "        return mu"
   ]
  },
  {
   "cell_type": "code",
   "execution_count": 5,
   "id": "c44b89a0-01bc-4aac-8795-095c1e25df36",
   "metadata": {},
   "outputs": [],
   "source": [
    "def plot_predictions(preds):\n",
    "    y_pred = preds['obs'].T.detach().numpy().mean(axis=1)\n",
    "    y_std = preds['obs'].T.detach().numpy().std(axis=1)\n",
    "    fig, ax = plt.subplots(figsize=(10, 5))\n",
    "    plt.xlabel(\"X\", fontsize=30)\n",
    "    plt.ylabel(\"Y\", fontsize=30)\n",
    "    y_pred = np.exp(y_pred)\n",
    "    ax.semilogx(10**np.linspace(0,2.5,101), y_pred, '-', linewidth=3, color=\"#408765\", label=\"predictive mean\")\n",
    "    plt.legend(loc=4, fontsize=15, frameon=False)\n",
    "    plt.show()"
   ]
  },
  {
   "cell_type": "code",
   "execution_count": 6,
   "id": "456d112b-a3b8-4b10-b032-0b082f0554af",
   "metadata": {},
   "outputs": [
    {
     "name": "stderr",
     "output_type": "stream",
     "text": [
      "Sample: 100%|████████████████████████████████████████| 200/200 [2:12:51, 39.86s/it, step size=1.42e-04, acc. prob=0.909]                     \n"
     ]
    }
   ],
   "source": [
    "X_train, y_train = datasets_creation()\n",
    "model = Model01()\n",
    "pyro.set_rng_seed(42)\n",
    "nuts_kernel = NUTS(model, jit_compile=False)\n",
    "mcmc = MCMC(nuts_kernel, num_samples=100)\n",
    "mcmc.run(X_train, y_train)\n",
    "predictive = Predictive(model=model, posterior_samples=mcmc.get_samples())\n",
    "X_trial = np.zeros([101,2])\n",
    "X_trial[:,0] = 10**np.linspace(0,2.5,101)\n",
    "X_trial[:,1] = 100\n",
    "X_trial = torch.tensor(X_trial, dtype=torch.float32)\n",
    "preds = predictive(X_trial)"
   ]
  },
  {
   "cell_type": "code",
   "execution_count": 7,
   "id": "d14266c5-7177-4986-b751-c801aa1882da",
   "metadata": {},
   "outputs": [
    {
     "data": {
      "image/png": "[encoded data removed]",
      "text/plain": [
       "<Figure size 1000x500 with 1 Axes>"
      ]
     },
     "metadata": {},
     "output_type": "display_data"
    }
   ],
   "source": [
    "plot_predictions(preds)"
   ]
  },
  {
   "cell_type": "code",
   "execution_count": 8,
   "id": "b0737cdf-c213-44ab-90cc-9f912c992ffd",
   "metadata": {},
   "outputs": [
    {
     "data": {
      "text/plain": [
       "{'obs': tensor([[ -1.9421,  -1.0862,  -1.3283,  ...,  -0.9846,  -8.2063, -23.5664],\n",
       "         [ -2.0626,  -3.3476,  -0.9473,  ...,  -4.6105,  -8.5411, -23.3734],\n",
       "         [ -2.4315,  -3.3462,  -5.1690,  ...,  -1.7088,  -7.0354, -22.2274],\n",
       "         ...,\n",
       "         [ -2.8861,  -0.7627,  -3.6721,  ...,  -4.0475,  -3.8515, -17.0037],\n",
       "         [ -3.7651,  -2.4953,  -0.8941,  ...,  -2.9963,  -5.8979, -18.8872],\n",
       "         [ -1.8499,  -2.4225,  -1.6674,  ...,  -4.9027,  -2.6395, -19.8291]])}"
      ]
     },
     "execution_count": 8,
     "metadata": {},
     "output_type": "execute_result"
    }
   ],
   "source": [
    "preds"
   ]
  },
  {
   "cell_type": "code",
   "execution_count": null,
   "id": "89698dbb-a504-447b-bf33-e408ee7c183c",
   "metadata": {},
   "outputs": [],
   "source": []
  }
 ],
 "metadata": {
  "kernelspec": {
   "display_name": "Python 3 (ipykernel)",
   "language": "python",
   "name": "python3"
  },
  "language_info": {
   "codemirror_mode": {
    "name": "ipython",
    "version": 3
   },
   "file_extension": ".py",
   "mimetype": "text/x-python",
   "name": "python",
   "nbconvert_exporter": "python",
   "pygments_lexer": "ipython3",
   "version": "3.11.5"
  }
 },
 "nbformat": 4,
 "nbformat_minor": 5
}
